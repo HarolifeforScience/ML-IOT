{
 "cells": [
  {
   "attachments": {},
   "cell_type": "markdown",
   "metadata": {},
   "source": [
    "<p><u>Client Mqtt Implementation in python</u></p>"
   ]
  },
  {
   "cell_type": "code",
   "execution_count": 12,
   "metadata": {},
   "outputs": [
    {
     "name": "stdout",
     "output_type": "stream",
     "text": [
      "Connected to MQTT Broker : {client.host}\n",
      "message received : Temperature is 5°C\n",
      "message topic : home437/weather\n"
     ]
    }
   ],
   "source": [
    "from paho.mqtt.properties import Properties\n",
    "from paho.mqtt.packettypes import PacketTypes\n",
    "import paho.mqtt.client as mqtt  \n",
    "properties=Properties(PacketTypes.CONNECT)\n",
    "properties.SessionExpiryInterval=30*60\n",
    "\n",
    "TRANSPORT= 'tcp'\n",
    "TOPIC = 'home437/weather'\n",
    "\n",
    "def on_message(client , userdata , message):\n",
    "    msg = str(message.payload.decode('utf-8'))\n",
    "    print('message received : ' + msg)\n",
    "    print('message topic : ' + message.topic)\n",
    "\n",
    "def on_connect(client,userdata,flags,rc,property):\n",
    "    print('Connected to MQTT Broker : {client.host}')\n",
    "    client.subscribe(TOPIC,2)\n",
    "    \n",
    "if __name__ == '__main__':\n",
    "    mqClient = mqtt.Client(client_id='mqNewer' , protocol=mqtt.MQTTv5 , transport=TRANSPORT)\n",
    "    mqClient.connect(host = 'mqtt.eclipseprojects.io' , port=1883 ,keepalive=90)\n",
    "    \n",
    "    mqClient.on_connect = on_connect\n",
    "    mqClient.on_message = on_message\n",
    "    \n",
    "    data = 'Temperature is 5°C'\n",
    "    mqClient.publish(topic=TOPIC , payload=data , qos=2)\n",
    "    mqClient.loop_start()\n",
    "\n",
    "\n"
   ]
  },
  {
   "attachments": {},
   "cell_type": "markdown",
   "metadata": {},
   "source": [
    "<p><u>Last Will Message Mqtt</u></p>"
   ]
  },
  {
   "cell_type": "code",
   "execution_count": 13,
   "metadata": {},
   "outputs": [
    {
     "name": "stdout",
     "output_type": "stream",
     "text": [
      "Connected to MQTT Broker : {client.host}\n",
      "message received : Temperature is 5°C\n",
      "message topic : home437/weather\n",
      "Connected to MQTT Broker : {client.host}\n",
      "Connected to MQTT Broker : {client.host}\n",
      "Connected to MQTT Broker : {client.host}\n",
      "Connected to MQTT Broker : {client.host}\n"
     ]
    },
    {
     "name": "stdout",
     "output_type": "stream",
     "text": [
      "Connected to MQTT Broker : {client.host}\n"
     ]
    }
   ],
   "source": [
    "from paho.mqtt.properties import Properties\n",
    "from paho.mqtt.packettypes import PacketTypes\n",
    "import paho.mqtt.client as mqtt  \n",
    "properties=Properties(PacketTypes.CONNECT)\n",
    "properties.SessionExpiryInterval=30*60\n",
    "\n",
    "TRANSPORT= 'tcp'\n",
    "TOPIC = 'home437/weather'\n",
    "\n",
    "def on_message(client , userdata , message):\n",
    "    msg = str(message.payload.decode('utf-8'))\n",
    "    print('message received : ' + msg)\n",
    "    print('message topic : ' + message.topic)\n",
    "\n",
    "def on_connect(client,userdata,flags,rc,property):\n",
    "    print('Connected to MQTT Broker : {client.host}')\n",
    "    client.subscribe(TOPIC,2)\n",
    "    \n",
    "def on_disconnect(client, userdata ,message):\n",
    "    print('Disconnected !!!')\n",
    "    \n",
    "if __name__ == '__main__':#\n",
    "    import time \n",
    "    mqClient = mqtt.Client(client_id='mqNewer' , protocol=mqtt.MQTTv5 , transport=TRANSPORT)\n",
    "    mqClient.connect(host = 'mqtt.eclipseprojects.io' , port=1883 ,keepalive=90)\n",
    "    \n",
    "    mqClient.on_connect = on_connect\n",
    "    mqClient.on_message = on_message\n",
    "    \n",
    "    data = 'Temperature is 5°C'\n",
    "    mqClient.publish(topic=TOPIC , payload=data , qos=2)\n",
    "    mqClient.loop_start()\n",
    "    time.sleep(5)\n",
    "    mqClient.loop_stop()\n",
    "    mqClient.disconnect()"
   ]
  }
 ],
 "metadata": {
  "kernelspec": {
   "display_name": "iotEnv",
   "language": "python",
   "name": "python3"
  },
  "language_info": {
   "codemirror_mode": {
    "name": "ipython",
    "version": 3
   },
   "file_extension": ".py",
   "mimetype": "text/x-python",
   "name": "python",
   "nbconvert_exporter": "python",
   "pygments_lexer": "ipython3",
   "version": "3.10.6"
  },
  "orig_nbformat": 4
 },
 "nbformat": 4,
 "nbformat_minor": 2
}
